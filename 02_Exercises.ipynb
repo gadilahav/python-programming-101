{
 "cells": [
  {
   "cell_type": "markdown",
   "metadata": {},
   "source": [
    "# Exercise 1\n",
    "\n",
    "Write a function called `f_to_c` that converts a temperature in Fahrenheit to Celsius."
   ]
  },
  {
   "cell_type": "code",
   "execution_count": 1,
   "metadata": {},
   "outputs": [],
   "source": [
    "def f_to_c(farenheit):\n",
    "    celsius = (farenheit - 32)*5/9\n",
    "    return celsius"
   ]
  },
  {
   "cell_type": "code",
   "execution_count": 6,
   "metadata": {},
   "outputs": [
    {
     "data": {
      "text/plain": [
       "40.55555555555556"
      ]
     },
     "execution_count": 6,
     "metadata": {},
     "output_type": "execute_result"
    }
   ],
   "source": [
    "f_to_c(105)  # Should return 0"
   ]
  },
  {
   "cell_type": "markdown",
   "metadata": {},
   "source": [
    "# Exercise 2\n",
    "\n",
    "Write a function called `total_length` that returns the sum of the lengths of the elements in a given list of strings."
   ]
  },
  {
   "cell_type": "code",
   "execution_count": 7,
   "metadata": {},
   "outputs": [],
   "source": [
    "def total_length(list_strings):\n",
    "    length_sum = 0\n",
    "    for member in list_strings:\n",
    "        length_sum += len(member)\n",
    "    return length_sum\n"
   ]
  },
  {
   "cell_type": "code",
   "execution_count": 9,
   "metadata": {},
   "outputs": [
    {
     "data": {
      "text/plain": [
       "15"
      ]
     },
     "execution_count": 9,
     "metadata": {},
     "output_type": "execute_result"
    }
   ],
   "source": [
    "total_length(['One', 'Two', 'Three', 'four'])  # Should return 11"
   ]
  },
  {
   "cell_type": "markdown",
   "metadata": {},
   "source": [
    "# Exercise 3\n",
    "\n",
    "Write a function called `my_max` that returns the maximum element of a given list of numbers."
   ]
  },
  {
   "cell_type": "code",
   "execution_count": 14,
   "metadata": {},
   "outputs": [],
   "source": [
    "def my_max(numbers):\n",
    "   # sort_numbers = sorted(numbers)\n",
    "   # max = sort_numbers[len(sort_numbers)-1]\n",
    "    max = numbers[0]\n",
    "    for number in numbers:\n",
    "        if number > max:\n",
    "            max = number\n",
    "    return max"
   ]
  },
  {
   "cell_type": "code",
   "execution_count": 17,
   "metadata": {},
   "outputs": [
    {
     "data": {
      "text/plain": [
       "7"
      ]
     },
     "execution_count": 17,
     "metadata": {},
     "output_type": "execute_result"
    }
   ],
   "source": [
    "my_max([1, 3, -5, 7, -9])  # Should return 7"
   ]
  },
  {
   "cell_type": "markdown",
   "metadata": {},
   "source": [
    "# Exercise 4\n",
    "\n",
    "Write a function called `first_negative` that returns the first negative element in a given list of numbers.\n",
    "If there are no negative elements, `first_negative` should return `None`."
   ]
  },
  {
   "cell_type": "code",
   "execution_count": 21,
   "metadata": {},
   "outputs": [],
   "source": [
    "def first_negative(numberss):\n",
    "    negative = 0\n",
    "    for number in numberss:\n",
    "        negative = number\n",
    "        if negative < 0:\n",
    "            break\n",
    "        else:\n",
    "            negative = None\n",
    "    return negative\n",
    "        \n",
    "        "
   ]
  },
  {
   "cell_type": "code",
   "execution_count": 23,
   "metadata": {},
   "outputs": [
    {
     "data": {
      "text/plain": [
       "-9"
      ]
     },
     "execution_count": 23,
     "metadata": {},
     "output_type": "execute_result"
    }
   ],
   "source": [
    "first_negative([1, 3, 5, 7, -9])  # Should return -5"
   ]
  },
  {
   "cell_type": "markdown",
   "metadata": {},
   "source": [
    "# Exercise 5\n",
    "\n",
    "Write a function called `first_negative_index` that returns the *index* of the first negative element in a given list of numbers.\n",
    "If there are no negative elements, `first_negative_index` should return `None`."
   ]
  },
  {
   "cell_type": "code",
   "execution_count": 30,
   "metadata": {},
   "outputs": [],
   "source": [
    "def first_negative_index(numbersss):\n",
    "    negative = 0\n",
    "    negative_index = None\n",
    "    for number in numbersss:\n",
    "        negative = number\n",
    "        if negative < 0:\n",
    "            negative_index = numbersss.index(number)\n",
    "            break\n",
    "    return negative_index\n",
    "        \n",
    "        "
   ]
  },
  {
   "cell_type": "code",
   "execution_count": 32,
   "metadata": {},
   "outputs": [
    {
     "data": {
      "text/plain": [
       "2"
      ]
     },
     "execution_count": 32,
     "metadata": {},
     "output_type": "execute_result"
    }
   ],
   "source": [
    "first_negative_index([1, 3, -5, 7, 9])  # Should return 2"
   ]
  },
  {
   "cell_type": "markdown",
   "metadata": {},
   "source": [
    "# Exercise 6\n",
    "\n",
    "Write a function called `div_by` that returns a list of the numbers between 1 and 100 divisible by a given divisor."
   ]
  },
  {
   "cell_type": "code",
   "execution_count": 35,
   "metadata": {},
   "outputs": [],
   "source": [
    "def div_by(x):\n",
    "    divided_numbers = []\n",
    "    for i in range(1,101):\n",
    "        if i%x == 0:\n",
    "            divided_numbers.append(i)\n",
    "    return divided_numbers"
   ]
  },
  {
   "cell_type": "code",
   "execution_count": 38,
   "metadata": {},
   "outputs": [
    {
     "data": {
      "text/plain": [
       "[50, 100]"
      ]
     },
     "execution_count": 38,
     "metadata": {},
     "output_type": "execute_result"
    }
   ],
   "source": [
    "div_by(50)  # Should return [50, 100]"
   ]
  },
  {
   "cell_type": "markdown",
   "metadata": {},
   "source": [
    "# Exercise 7\n",
    "\n",
    "Modify the function `div_by` so that it returns a list of the numbers between 1 and 100 divisible by at least one element of a given *list* of divisors."
   ]
  },
  {
   "cell_type": "code",
   "execution_count": 41,
   "metadata": {},
   "outputs": [],
   "source": [
    "def div_by(x):\n",
    "    divided_numbers = []\n",
    "    for i in range(1,101):\n",
    "        for number in x:\n",
    "            if i%number == 0:\n",
    "                divided_numbers.append(i)\n",
    "    return divided_numbers"
   ]
  },
  {
   "cell_type": "code",
   "execution_count": 43,
   "metadata": {},
   "outputs": [
    {
     "data": {
      "text/plain": [
       "[20, 40, 50, 60, 75, 80, 100, 100]"
      ]
     },
     "execution_count": 43,
     "metadata": {},
     "output_type": "execute_result"
    }
   ],
   "source": [
    "div_by([20,50, 75])  # Should return [50, 75, 100]"
   ]
  },
  {
   "cell_type": "markdown",
   "metadata": {},
   "source": [
    "# Exercise 8\n",
    "\n",
    "Write a function called `count_vowels` that counts the number of vowels in a string."
   ]
  },
  {
   "cell_type": "code",
   "execution_count": 44,
   "metadata": {},
   "outputs": [],
   "source": [
    "def count_vowels(sentence):\n",
    "    vowels_num = 0\n",
    "    for i in sentence:\n",
    "        if i in 'aeiouAEIOU':\n",
    "            vowels_num += 1\n",
    "    return vowels_num"
   ]
  },
  {
   "cell_type": "code",
   "execution_count": 45,
   "metadata": {},
   "outputs": [
    {
     "data": {
      "text/plain": [
       "11"
      ]
     },
     "execution_count": 45,
     "metadata": {},
     "output_type": "execute_result"
    }
   ],
   "source": [
    "count_vowels('The quick brown fox jumps over the lazy dog')  # Should return 11"
   ]
  },
  {
   "cell_type": "markdown",
   "metadata": {},
   "source": [
    "# Exercise 9\n",
    "\n",
    "Write a function called `collatz` that computes the [Collatz sequence](https://en.wikipedia.org/wiki/Collatz_conjecture) starting from a given number.\n",
    "\n",
    "Given a number $n$, the next number in the sequence is given by\n",
    "$$\n",
    "\\begin{cases}\n",
    "    n\\,/\\,2 & \\text{if $n$ is even;} \\\\\n",
    "    3n + 1  & \\text{otherwise.}\n",
    "\\end{cases}\n",
    "$$\n",
    "\n",
    "Your function should stop when the sequence reaches 1, and return the list of numbers in the sequence from $n$ to 1 (both included)."
   ]
  },
  {
   "cell_type": "code",
   "execution_count": 56,
   "metadata": {},
   "outputs": [],
   "source": [
    "def collatz(number):\n",
    "    collatz_list = []\n",
    "    start = number\n",
    "    while start != 1:\n",
    "        collatz_list.append(start)\n",
    "        if start%2 == 0:\n",
    "            start = int(start/2)\n",
    "        else:\n",
    "            start = start*3 + 1\n",
    "    collatz_list.append(1)\n",
    "    return collatz_list\n",
    "    "
   ]
  },
  {
   "cell_type": "code",
   "execution_count": 57,
   "metadata": {},
   "outputs": [
    {
     "data": {
      "text/plain": [
       "[42, 21, 64, 32, 16, 8, 4, 2, 1]"
      ]
     },
     "execution_count": 57,
     "metadata": {},
     "output_type": "execute_result"
    }
   ],
   "source": [
    "collatz(42)  # Should return [42, 21, 64, 32, 16, 8, 4, 2, 1]"
   ]
  },
  {
   "cell_type": "markdown",
   "metadata": {},
   "source": [
    "# Exercise 10\n",
    "\n",
    "Write a function `has_duplicates` that returns `True` if a given list contains duplicate elements."
   ]
  },
  {
   "cell_type": "code",
   "execution_count": 61,
   "metadata": {},
   "outputs": [],
   "source": [
    "def has_duplicates(lists):\n",
    "    result = False\n",
    "    dup = []\n",
    "    for a in lists:\n",
    "        if a in dup:\n",
    "            result = True\n",
    "        else:\n",
    "            dup.append(a)\n",
    "    return result\n",
    "            \n",
    "        "
   ]
  },
  {
   "cell_type": "code",
   "execution_count": 62,
   "metadata": {},
   "outputs": [
    {
     "data": {
      "text/plain": [
       "False"
      ]
     },
     "execution_count": 62,
     "metadata": {},
     "output_type": "execute_result"
    }
   ],
   "source": [
    "has_duplicates('uncopyrightable')  # Should return False"
   ]
  },
  {
   "cell_type": "markdown",
   "metadata": {},
   "source": [
    "# Exercise 11\n",
    "\n",
    "Using the function `randint` from the [package `random`](https://docs.python.org/3/library/random.html), write a function called `roll_fair_die` that simulates a roll of a fair six-sided die."
   ]
  },
  {
   "cell_type": "code",
   "execution_count": 65,
   "metadata": {},
   "outputs": [],
   "source": [
    "from random import randint\n",
    "def roll_fair_die():\n",
    "    a = randint(1,6)\n",
    "    return a"
   ]
  },
  {
   "cell_type": "code",
   "execution_count": 76,
   "metadata": {},
   "outputs": [
    {
     "data": {
      "text/plain": [
       "6"
      ]
     },
     "execution_count": 76,
     "metadata": {},
     "output_type": "execute_result"
    }
   ],
   "source": [
    "roll_fair_die()"
   ]
  },
  {
   "cell_type": "markdown",
   "metadata": {},
   "source": [
    "# Exercise 12\n",
    "\n",
    "Write a function called `roll_dice` that simulates the roll of a given number of fair six-sided dice, and returns a list of the numbers obtained."
   ]
  },
  {
   "cell_type": "code",
   "execution_count": 81,
   "metadata": {},
   "outputs": [],
   "source": [
    "from random import randint\n",
    "def roll_dice(rolls):\n",
    "    rolls_list = []\n",
    "    for i in range(0,rolls):\n",
    "        a = randint(1,6)\n",
    "        rolls_list.append(a)\n",
    "    return rolls_list"
   ]
  },
  {
   "cell_type": "code",
   "execution_count": 82,
   "metadata": {},
   "outputs": [
    {
     "data": {
      "text/plain": [
       "[4, 3, 2]"
      ]
     },
     "execution_count": 82,
     "metadata": {},
     "output_type": "execute_result"
    }
   ],
   "source": [
    "roll_dice(3)"
   ]
  },
  {
   "cell_type": "markdown",
   "metadata": {},
   "source": [
    "# Exercise 13\n",
    "\n",
    "Write a function called `roll_has_duplicates` that simulates the roll of a given number of fair six-sided dice, and returns `True` if at least two dice show the same number."
   ]
  },
  {
   "cell_type": "code",
   "execution_count": 85,
   "metadata": {},
   "outputs": [],
   "source": [
    "from random import randint\n",
    "def roll_has_duplicates(rolls1):\n",
    "    result = False\n",
    "    rolls_list1 = []\n",
    "    for i in range(0,rolls1):\n",
    "        a = randint(1,6)\n",
    "        rolls_list1.append(a)\n",
    "    print(rolls_list1)\n",
    "    dup = []\n",
    "    for x in rolls_list1:\n",
    "        if x in dup:\n",
    "            result = True\n",
    "        else:\n",
    "            dup.append(x)\n",
    "    return result\n",
    "    "
   ]
  },
  {
   "cell_type": "code",
   "execution_count": 87,
   "metadata": {},
   "outputs": [
    {
     "name": "stdout",
     "output_type": "stream",
     "text": [
      "[1, 4, 4]\n"
     ]
    },
    {
     "data": {
      "text/plain": [
       "True"
      ]
     },
     "execution_count": 87,
     "metadata": {},
     "output_type": "execute_result"
    }
   ],
   "source": [
    "roll_has_duplicates(3)"
   ]
  },
  {
   "cell_type": "markdown",
   "metadata": {},
   "source": [
    "Next, write a function `roll_duplicates_proportion` that simulates the above multiple times, and returns the proportion of times when at least two dice showed the same number."
   ]
  },
  {
   "cell_type": "code",
   "execution_count": 94,
   "metadata": {},
   "outputs": [],
   "source": [
    "from random import randint\n",
    "def roll_duplicates_proportion(tries, rolls2):\n",
    "    duplicates = 0\n",
    "    for y in range(0, tries):\n",
    "        rolls_list2 = []\n",
    "        for i in range(0,rolls2):\n",
    "            a = randint(1,6)\n",
    "            rolls_list2.append(a)\n",
    "       # print(rolls_list2)\n",
    "        dup = []\n",
    "        for x in rolls_list2:\n",
    "            if x in dup:\n",
    "                duplicates += 1\n",
    "            else:\n",
    "                dup.append(x)\n",
    "    ratio = {'duplicates':duplicates, 'no-duplicates':(tries - duplicates)}\n",
    "    return ratio\n",
    "    "
   ]
  },
  {
   "cell_type": "code",
   "execution_count": 100,
   "metadata": {},
   "outputs": [
    {
     "data": {
      "text/plain": [
       "{'duplicates': 478, 'no-duplicates': 522}"
      ]
     },
     "execution_count": 100,
     "metadata": {},
     "output_type": "execute_result"
    }
   ],
   "source": [
    "roll_duplicates_proportion(1000, 3)"
   ]
  },
  {
   "cell_type": "markdown",
   "metadata": {},
   "source": [
    "# Exercise 14\n",
    "\n",
    "Write a function called `longest_run_of_heads` that simulates a given number of fair coin flips, and returns the length of the longest run of heads."
   ]
  },
  {
   "cell_type": "code",
   "execution_count": 138,
   "metadata": {},
   "outputs": [],
   "source": [
    "def longest_run_of_heads(x):\n",
    "    counts = 0\n",
    "    head_count = 0   \n",
    "    for i in range(0,x):\n",
    "        coin = randint(1,2)\n",
    "      #  print(\"coin\" + str(coin))\n",
    "        if coin == 1:\n",
    "            head_count +=1\n",
    "       #     print(head_count)\n",
    "            if head_count > counts:\n",
    "                counts = head_count\n",
    "        else:\n",
    "            head_count = 0\n",
    "    return counts\n",
    "            \n",
    "    "
   ]
  },
  {
   "cell_type": "code",
   "execution_count": 139,
   "metadata": {},
   "outputs": [
    {
     "data": {
      "text/plain": [
       "6"
      ]
     },
     "execution_count": 139,
     "metadata": {},
     "output_type": "execute_result"
    }
   ],
   "source": [
    "longest_run_of_heads(100)"
   ]
  },
  {
   "cell_type": "markdown",
   "metadata": {},
   "source": [
    "Next, write a function `mean_longest_run_of_heads` that simulates a given number of fair coin flips a given number of times, and returns the mean length of the longest run of heads."
   ]
  },
  {
   "cell_type": "code",
   "execution_count": 150,
   "metadata": {},
   "outputs": [],
   "source": [
    "def mean_longest_run_of_heads(y,x):\n",
    "    run_of_heads = []\n",
    "    for runs in range(0,y):\n",
    "        counts = 0\n",
    "        head_count = 0   \n",
    "        for i in range(0,x):\n",
    "            coin = randint(1,2)\n",
    "          #  print(\"coin\" + str(coin))\n",
    "            if coin == 1:\n",
    "                head_count +=1\n",
    "          #      print(head_count)\n",
    "                if head_count > counts:\n",
    "                    counts = head_count\n",
    "            else:\n",
    "                head_count = 0\n",
    "        run_of_heads.append(counts)\n",
    "       # print('next run')\n",
    "    \n",
    "    total = 0\n",
    "    for i in run_of_heads:\n",
    "        total += i\n",
    "    print(run_of_heads)\n",
    "    print(len(run_of_heads))\n",
    "    print(total)\n",
    "    mean = total / len(run_of_heads)\n",
    "    return mean\n",
    "            \n",
    "    "
   ]
  },
  {
   "cell_type": "code",
   "execution_count": 169,
   "metadata": {},
   "outputs": [
    {
     "name": "stdout",
     "output_type": "stream",
     "text": [
      "[5, 7, 6, 5, 5, 5, 5, 5, 5, 6, 7, 9, 7, 7, 10, 7, 4, 5, 6, 5, 7, 7, 4, 8, 6, 7, 7, 6, 9, 5, 6, 14, 5, 7, 5, 9, 8, 5, 8, 5, 7, 7, 5, 7, 10, 5, 5, 8, 7, 5, 11, 5, 5, 6, 8, 6, 5, 6, 6, 4, 6, 4, 6, 8, 4, 7, 6, 4, 7, 4, 5, 6, 6, 4, 3, 4, 6, 5, 6, 5, 6, 13, 7, 5, 8, 7, 5, 8, 9, 5, 6, 6, 4, 7, 5, 5, 4, 5, 6, 7, 6, 5, 6, 5, 6, 6, 7, 5, 4, 7, 5, 4, 4, 3, 4, 5, 4, 7, 7, 5, 5, 9, 4, 3, 6, 7, 6, 6, 7, 5, 6, 5, 6, 5, 6, 6, 4, 4, 6, 6, 5, 5, 7, 5, 7, 4, 5, 6, 7, 4, 5, 4, 8, 5, 4, 13, 6, 6, 3, 5, 7, 4, 9, 7, 7, 6, 4, 4, 5, 4, 6, 4, 5, 5, 10, 4, 6, 6, 6, 4, 5, 6, 5, 6, 7, 9, 9, 4, 6, 6, 5, 8, 6, 7, 5, 6, 7, 6, 7, 8, 5, 5, 5, 5, 7, 7, 4, 5, 5, 7, 4, 5, 7, 9, 6, 5, 9, 5, 5, 6, 6, 6, 5, 8, 7, 7, 5, 7, 7, 7, 4, 6, 7, 6, 5, 4, 4, 6, 5, 6, 7, 5, 8, 4, 6, 6, 8, 7, 7, 6, 5, 4, 3, 6, 10, 9, 8, 7, 4, 5, 6, 5, 4, 5, 9, 4, 3, 8, 7, 7, 8, 8, 8, 5, 6, 5, 4, 5, 4, 6, 4, 4, 5, 7, 4, 8, 8, 6, 13, 7, 4, 4, 13, 7, 6, 6, 5, 10, 10, 9, 4, 5, 8, 5, 5, 6, 4, 6, 5, 5, 7, 5, 8, 8, 6, 9, 4, 3, 5, 6, 6, 5, 5, 6, 8, 8, 10, 4, 6, 3, 8, 6, 6, 6, 8, 4, 6, 8, 6, 8, 6, 8, 5, 6, 5, 4, 5, 7, 5, 6, 8, 8, 7, 6, 7, 4, 5, 6, 4, 8, 6, 6, 8, 5, 6, 5, 5, 4, 6, 9, 6, 4, 6, 7, 4, 9, 5, 6, 8, 3, 5, 7, 8, 6, 6, 4, 5, 5, 5, 6, 6, 9, 5, 7, 5, 4, 7, 6, 5, 4, 3, 4, 6, 4, 4, 6, 7, 7, 6, 5, 5, 4, 6, 4, 6, 6, 6, 6, 6, 5, 5, 4, 7, 6, 4, 9, 5, 4, 5, 4, 6, 7, 6, 6, 8, 6, 4, 6, 5, 5, 5, 5, 9, 4, 8, 7, 5, 5, 13, 5, 4, 4, 7, 9, 5, 7, 6, 7, 8, 5, 5, 6, 5, 8, 7, 4, 4, 10, 4, 5, 7, 5, 7, 8, 5, 5, 9, 11, 6, 5, 4, 5, 10, 5, 4, 4, 6, 8, 4, 5, 5, 3, 5, 6, 4, 5, 7, 9, 7, 7, 8, 9, 6, 8, 5, 6, 6, 5, 3, 8, 4, 5, 4, 15, 4, 7, 5, 5, 4, 6, 6, 8, 6, 6, 5, 3, 9, 4, 5, 6, 4, 7, 7, 8, 5, 7, 3, 6, 6, 6, 4, 4, 8, 5, 6, 5, 9, 9, 6, 5, 6, 5, 5, 4, 5, 7, 7, 7, 6, 6, 6, 4, 8, 6, 5, 7, 6, 5, 5, 8, 5, 9, 5, 6, 7, 5, 6, 8, 6, 7, 4, 6, 6, 5, 6, 5, 8, 5, 8, 4, 5, 4, 6, 5, 10, 8, 7, 4, 7, 6, 5, 5, 5, 6, 11, 7, 9, 5, 6, 4, 4, 5, 6, 5, 4, 8, 7, 6, 5, 4, 11, 4, 7, 5, 7, 5, 6, 8, 6, 6, 12, 7, 5, 5, 7, 6, 6, 5, 6, 6, 7, 7, 3, 3, 6, 7, 6, 10, 7, 5, 10, 6, 8, 5, 6, 6, 4, 4, 7, 4, 9, 5, 4, 5, 10, 4, 6, 6, 5, 4, 5, 6, 7, 11, 5, 4, 4, 8, 6, 4, 6, 7, 5, 7, 11, 6, 4, 9, 4, 7, 7, 7, 3, 4, 3, 4, 5, 7, 6, 9, 4, 6, 4, 5, 4, 7, 5, 5, 5, 8, 6, 6, 8, 7, 6, 6, 4, 8, 4, 9, 5, 7, 6, 4, 6, 7, 7, 5, 7, 9, 4, 8, 5, 12, 7, 5, 7, 7, 13, 5, 4, 6, 5, 5, 7, 4, 5, 3, 7, 6, 8, 7, 5, 4, 6, 6, 5, 10, 5, 5, 6, 3, 9, 6, 4, 4, 7, 5, 5, 4, 6, 5, 7, 6, 6, 7, 6, 6, 5, 5, 6, 8, 4, 5, 5, 6, 5, 4, 8, 4, 7, 4, 6, 10, 5, 8, 7, 4, 7, 5, 9, 4, 7, 6, 11, 6, 5, 7, 10, 5, 4, 5, 5, 6, 7, 3, 8, 4, 5, 5, 6, 5, 6, 6, 5, 5, 4, 6, 7, 5, 5, 5, 6, 6, 7, 7, 7, 4, 4, 7, 6, 6, 7, 5, 4, 4, 4, 7, 5, 5, 5, 5, 4, 4, 8, 6, 7, 8, 5, 5, 9, 7, 4, 5, 5, 4, 4, 7, 7, 5, 4, 7, 8, 9, 8, 6, 6, 5, 9, 4, 6, 5, 5, 10, 6, 4, 7, 6, 6, 5, 6, 4, 7, 6, 9, 3, 5, 4, 6, 5, 6, 8, 6, 8, 5, 7, 8, 5, 5, 7, 5, 5, 7, 4, 7, 4, 6, 7, 7, 9, 4, 4, 4, 8, 7, 7, 4, 4, 5, 6, 4, 6, 6, 10, 10, 6, 5, 6, 4, 4, 4, 5, 5, 4, 5, 7, 3, 6, 9, 5, 8, 5, 5, 6, 9, 6, 7, 5, 10, 8, 4, 5, 9, 4, 5, 9, 6, 5, 8, 7, 3, 6, 3, 5, 6, 6, 4, 6, 4, 4, 10, 4, 7, 7, 6, 8, 6, 4, 5, 5, 7, 4, 5, 7, 6, 10, 3, 4, 7, 6]\n",
      "1000\n",
      "5968\n"
     ]
    },
    {
     "data": {
      "text/plain": [
       "5.968"
      ]
     },
     "execution_count": 169,
     "metadata": {},
     "output_type": "execute_result"
    }
   ],
   "source": [
    "mean_longest_run_of_heads(1000, 100)"
   ]
  },
  {
   "cell_type": "markdown",
   "metadata": {},
   "source": [
    "# Exercise 15\n",
    "\n",
    "**Note**: this problem was part of the [2017 Qualification Round](https://code.google.com/codejam/contest/3264486/dashboard#s=p1) for the [Google Code Jam](https://code.google.com/codejam/) contest.\n",
    "Have a look at [past contests](https://code.google.com/codejam/past-contests) for many more challenging problems!\n",
    "\n",
    "---\n",
    "\n",
    "Tatiana likes to keep things tidy. Her toys are sorted from smallest to largest, her pencils are sorted from shortest to longest and her computers from oldest to newest. One day, when practicing her counting skills, she noticed that some integers, when written in base 10 with no leading zeroes, have their digits sorted in non-decreasing order. Some examples of this are 8, 123, 555, and 224488. She decided to call these numbers tidy. Numbers that do not have this property, like 20, 321, 495 and 999990, are not tidy.\n",
    "\n",
    "She just finished counting all positive integers in ascending order from 1 to $N$. What was the last tidy number she counted?"
   ]
  },
  {
   "cell_type": "code",
   "execution_count": 46,
   "metadata": {},
   "outputs": [
    {
     "name": "stdout",
     "output_type": "stream",
     "text": [
      "4\n",
      "3999\n"
     ]
    }
   ],
   "source": [
    "n = 4302\n",
    "\n",
    "n_length = len(str(n))\n",
    "tidy_number = 0\n",
    "for x in range(1,n_length):\n",
    "    m = n_length - x\n",
    "    for i in range(1,n):\n",
    "        first_digit = i//10**(m)\n",
    "        second_digit = (i%10**(m))//10**(m-1)\n",
    "        if second_digit > first_digit and i > tidy_number:\n",
    "            tidy_number = i\n",
    "print(n_length)\n",
    "print(tidy_number)"
   ]
  },
  {
   "cell_type": "code",
   "execution_count": null,
   "metadata": {},
   "outputs": [],
   "source": [
    "numbers = []\n",
    "n = 41\n",
    "for i in range(1,n+1):\n",
    "    numbers.append(i)\n",
    "n_length = len(str(n))\n",
    "\n",
    "print(numbers)\n",
    "print(n_length)"
   ]
  },
  {
   "cell_type": "code",
   "execution_count": null,
   "metadata": {},
   "outputs": [],
   "source": []
  }
 ],
 "metadata": {
  "kernelspec": {
   "display_name": "Python 3",
   "language": "python",
   "name": "python3"
  }
 },
 "nbformat": 4,
 "nbformat_minor": 2
}
